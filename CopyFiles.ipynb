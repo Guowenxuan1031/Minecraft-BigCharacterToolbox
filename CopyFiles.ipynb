{
 "cells": [
  {
   "cell_type": "code",
   "execution_count": 14,
   "id": "51c5dd55",
   "metadata": {},
   "outputs": [
    {
     "name": "stdout",
     "output_type": "stream",
     "text": [
      "选择读取内容：xx.生成告示牌；yy.替换告示牌:xx\n",
      "start\n",
      "xx\n"
     ]
    }
   ],
   "source": [
    "import pyautogui as pag\n",
    "import pyperclip as ppc\n",
    "from time import sleep\n",
    "\n",
    "a = input(\"选择读取内容：xx.生成告示牌；yy.替换告示牌:\")\n",
    "sleep(5)\n",
    "print(\"start\")\n",
    "f = open( 'command.txt', 'r',encoding = 'utf-8' )\n",
    "f1 = open( 'alternative.txt', 'r',encoding = 'utf-8' )\n",
    "if a == \"xx\":\n",
    "    print(a)\n",
    "    for line in f.readlines():\n",
    "        ppc.copy(line)\n",
    "        pag.press('t')\n",
    "        sleep(.3)\n",
    "        pag.hotkey('ctrl','v')\n",
    "        sleep(.2)\n",
    "        pag.press('enter')\n",
    "        sleep(.2)\n",
    "elif a == \"yy\":\n",
    "    print(a)\n",
    "    for line in f1.readlines():\n",
    "        ppc.copy(line)\n",
    "        pag.press('t')\n",
    "        sleep(.3)\n",
    "        pag.hotkey('ctrl','v')\n",
    "        sleep(.2)\n",
    "        pag.press('enter')\n",
    "        sleep(.2)\n",
    "f.close()\n",
    "f1.close()"
   ]
  },
  {
   "cell_type": "code",
   "execution_count": null,
   "id": "d3048f54",
   "metadata": {},
   "outputs": [],
   "source": []
  }
 ],
 "metadata": {
  "kernelspec": {
   "display_name": "Python 3",
   "language": "python",
   "name": "python3"
  },
  "language_info": {
   "codemirror_mode": {
    "name": "ipython",
    "version": 3
   },
   "file_extension": ".py",
   "mimetype": "text/x-python",
   "name": "python",
   "nbconvert_exporter": "python",
   "pygments_lexer": "ipython3",
   "version": "3.8.8"
  }
 },
 "nbformat": 4,
 "nbformat_minor": 5
}
