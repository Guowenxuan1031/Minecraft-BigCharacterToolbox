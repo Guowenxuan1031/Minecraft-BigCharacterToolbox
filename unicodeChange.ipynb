{
 "cells": [
  {
   "cell_type": "code",
   "execution_count": 14,
   "id": "eecba122",
   "metadata": {
    "scrolled": true
   },
   "outputs": [
    {
     "name": "stdout",
     "output_type": "stream",
     "text": [
      "输入汉字：《我的世界》（Minecraft）是一款沙盒类电子游戏\n",
      "27\n",
      "300a\n",
      "6211\n",
      "7684\n",
      "4e16\n",
      "754c\n",
      "300b\n",
      "ff08\n",
      "004d\n",
      "0069\n",
      "006e\n",
      "0065\n",
      "0063\n",
      "0072\n",
      "0061\n",
      "0066\n",
      "0074\n",
      "ff09\n",
      "662f\n",
      "4e00\n",
      "6b3e\n",
      "6c99\n",
      "76d2\n",
      "7c7b\n",
      "7535\n",
      "5b50\n",
      "6e38\n",
      "620f\n"
     ]
    }
   ],
   "source": [
    "# str1 = '你好'\n",
    "str1 = input(\"输入汉字：\")\n",
    "# uni = str1.encode('unicode-escape').decode()\n",
    "# print(str(len(str1)) + uni + \"\\n\")\n",
    "# print()\n",
    "print(str(len(str1)))\n",
    "for ch in str1:\n",
    "    tmp_ch = hex(ord(ch))[2:]\n",
    "    print(\"0\" * (4 - len(tmp_ch)) + tmp_ch)"
   ]
  },
  {
   "cell_type": "code",
   "execution_count": null,
   "id": "3a060eda",
   "metadata": {},
   "outputs": [],
   "source": []
  },
  {
   "cell_type": "code",
   "execution_count": null,
   "id": "cb2a29c4",
   "metadata": {},
   "outputs": [],
   "source": []
  }
 ],
 "metadata": {
  "kernelspec": {
   "display_name": "Python 3",
   "language": "python",
   "name": "python3"
  },
  "language_info": {
   "codemirror_mode": {
    "name": "ipython",
    "version": 3
   },
   "file_extension": ".py",
   "mimetype": "text/x-python",
   "name": "python",
   "nbconvert_exporter": "python",
   "pygments_lexer": "ipython3",
   "version": "3.8.8"
  }
 },
 "nbformat": 4,
 "nbformat_minor": 5
}
